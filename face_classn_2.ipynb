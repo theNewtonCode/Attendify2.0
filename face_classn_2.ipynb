{
 "cells": [
  {
   "cell_type": "code",
   "execution_count": 2,
   "metadata": {},
   "outputs": [
    {
     "name": "stdout",
     "output_type": "stream",
     "text": [
      "WARNING:tensorflow:From c:\\Users\\Lenovo\\OneDrive\\Desktop\\deep learning\\.venv\\lib\\site-packages\\keras\\src\\losses.py:2976: The name tf.losses.sparse_softmax_cross_entropy is deprecated. Please use tf.compat.v1.losses.sparse_softmax_cross_entropy instead.\n",
      "\n"
     ]
    }
   ],
   "source": [
    "import requests\n",
    "import cv2\n",
    "import os\n",
    "import numpy as np\n",
    "from sklearn.model_selection import train_test_split\n",
    "from keras.models import Sequential\n",
    "from keras.layers import Conv2D, MaxPooling2D, Flatten, Dense\n",
    "from keras.utils import to_categorical"
   ]
  },
  {
   "cell_type": "code",
   "execution_count": 1,
   "metadata": {},
   "outputs": [],
   "source": [
    "url = 'http://10.12.105.245:8080/shot.jpg'\n",
    "# save_folder = 'images'\n",
    "# saved_image_path = get_image(url, save_folder)"
   ]
  },
  {
   "cell_type": "code",
   "execution_count": null,
   "metadata": {},
   "outputs": [],
   "source": [
    "howmanypics = 10\n",
    "personName = \"Aditya\"\n",
    "save_path_train = \"trainFaces\"\n",
    "save_path_test = \"testFaces\""
   ]
  },
  {
   "cell_type": "code",
   "execution_count": null,
   "metadata": {},
   "outputs": [],
   "source": [
    "face_classifier = cv2.CascadeClassifier(cv2.data.haarcascades + 'haarcascade_frontalface_default.xml')\n",
    "\n",
    "def face_cropped(img):\n",
    "    gray = cv2.cvtColor(img, cv2.COLOR_BGR2GRAY)\n",
    "    faces = face_classifier.detectMultiScale(gray, 1.2, 5)\n",
    "    if len(faces) != 1:\n",
    "        return None\n",
    "    x, y, w, h = faces[0]\n",
    "    cropped_face = img[y: y+h, x:x+w]\n",
    "    return cropped_face\n",
    "\n",
    "def process_images(url_template, save_path_train, save_path_test, personName):\n",
    "    for i in range(1, howmanypics+1):  # Process 100 images\n",
    "        url = url_template.format(i)\n",
    "        img_resp = requests.get(url)\n",
    "        img_arr = np.array(bytearray(img_resp.content), dtype=np.uint8)\n",
    "        img = cv2.imdecode(img_arr, -1)\n",
    "\n",
    "        # Check if a face is detected in the first image\n",
    "        if i == 1:\n",
    "            face = face_cropped(img)\n",
    "            if face is None:\n",
    "                print(\"No face detected in the first image. Exiting.\")\n",
    "                return\n",
    "        \n",
    "        # Process and save the face as a 64x64 image\n",
    "        face = face_cropped(img)\n",
    "        face_resized = cv2.resize(face, (128, 128))\n",
    "        face_gray = cv2.cvtColor(face_resized, cv2.COLOR_BGR2GRAY)\n",
    "        if(i<int(howmanypics*0.7)):\n",
    "            file_path = os.path.join(save_path_train, f'{personName}_{i}.jpg')\n",
    "            cv2.imwrite(file_path, face_gray)\n",
    "        else:\n",
    "            file_path = os.path.join(save_path_test, f'{personName}_{i}.jpg')\n",
    "            cv2.imwrite(file_path, face_gray)\n",
    "\n",
    "    print(\"Faces cropped and saved successfully.\")\n",
    "\n",
    "# Example usage # URL template for 100 images\n",
    "save_path = 'images'  # Specify where to save the cropped faces\n",
    "process_images(url, save_path_train, save_path_test, personName)"
   ]
  },
  {
   "cell_type": "code",
   "execution_count": null,
   "metadata": {},
   "outputs": [],
   "source": [
    "# Function to load and preprocess images from a folder\n",
    "def load_images_from_folder(folder, image_size):\n",
    "    images = []\n",
    "    labels = []\n",
    "    for filename in os.listdir(folder):\n",
    "        if filename.endswith(\".jpg\"):\n",
    "            img = cv2.imread(os.path.join(folder, filename))\n",
    "            img = cv2.resize(img, image_size)\n",
    "            images.append(img)\n",
    "            labels.append(filename.split('_')[0])  # Assuming filename format: \"PersonName_index.jpg\"\n",
    "    return np.array(images), np.array(labels)\n",
    "\n",
    "# Set your dataset directories and image size\n",
    "train_dir = 'trainFaces'\n",
    "test_dir = 'testFaces'\n",
    "image_size = (128, 128)\n",
    "\n",
    "# Load training and testing images and labels\n",
    "X_train, y_train = load_images_from_folder(train_dir, image_size)\n",
    "X_test, y_test = load_images_from_folder(test_dir, image_size)\n",
    "\n",
    "# Encode labels as integers\n",
    "label_mapping = {label: idx for idx, label in enumerate(np.unique(y_train))}\n",
    "y_train = np.array([label_mapping[label] for label in y_train])\n",
    "y_test = np.array([label_mapping[label] for label in y_test])\n",
    "\n",
    "# Convert labels to one-hot encoding\n",
    "y_train = to_categorical(y_train)\n",
    "y_test = to_categorical(y_test)"
   ]
  },
  {
   "cell_type": "code",
   "execution_count": null,
   "metadata": {},
   "outputs": [],
   "source": [
    "# Define the CNN model\n",
    "model = Sequential()\n",
    "model.add(Conv2D(64, (3, 3), activation='relu', input_shape=(image_size[0], image_size[1], 3)))\n",
    "model.add(MaxPooling2D((2, 2)))\n",
    "model.add(Conv2D(128, (3, 3), activation='relu'))\n",
    "model.add(MaxPooling2D((2, 2)))\n",
    "model.add(Conv2D(128, (3, 3), activation='relu'))\n",
    "model.add(MaxPooling2D((2, 2)))\n",
    "model.add(Flatten())\n",
    "model.add(Dense(64, activation='relu'))\n",
    "model.add(Dense(len(label_mapping), activation='softmax'))\n",
    "\n",
    "# Compile the model\n",
    "model.compile(optimizer='adam', loss='categorical_crossentropy', metrics=['accuracy'])\n",
    "\n",
    "# Train the model\n",
    "model.fit(X_train, y_train, epochs=10, batch_size=32, validation_data=(X_test, y_test))\n",
    "\n",
    "# Evaluate the model\n",
    "test_loss, test_accuracy = model.evaluate(X_test, y_test)\n",
    "print(f\"Test Accuracy: {test_accuracy}\")"
   ]
  },
  {
   "cell_type": "code",
   "execution_count": null,
   "metadata": {},
   "outputs": [],
   "source": [
    "test_image = cv2.imread('2.jpg')\n",
    "test_image = cv2.resize(test_image, image_size)\n",
    "test_image = np.expand_dims(test_image, axis=0)\n",
    "prediction = model.predict(test_image)\n",
    "predicted_label = list(label_mapping.keys())[np.argmax(prediction)]\n",
    "print(f\"Predicted Label: {predicted_label}\")"
   ]
  },
  {
   "cell_type": "code",
   "execution_count": null,
   "metadata": {},
   "outputs": [],
   "source": [
    "def capture_images(url): #, interval_seconds=5, num_images=10\n",
    "    image_list = []\n",
    "\n",
    "    # for _ in range(num_images):\n",
    "    img_resp = requests.get(url)\n",
    "    img_arr = np.array(bytearray(img_resp.content), dtype=np.uint8)\n",
    "    img = cv2.imdecode(img_arr, -1)\n",
    "    # img = imutils.resize(img, width=1000, height=1800)\n",
    "\n",
    "    image_list.append(img)\n",
    "        # time.sleep(interval_seconds)\n",
    "\n",
    "    return image_list\n",
    "# url_to_capture = \"http://10.12.60.98:8080//shot.jpg\"\n",
    "# captured_images = capture_images(url=url_to_capture, interval_seconds=2, num_images=10)\n",
    "\n",
    "def face_cropped_from_list(images_list):\n",
    "    # Load the face classifier\n",
    "    face_classifier = cv2.CascadeClassifier(cv2.data.haarcascades + 'haarcascade_frontalface_default.xml')\n",
    "    all_faces_list = []\n",
    "\n",
    "    for img in images_list:\n",
    "        faces_list = []\n",
    "        gray = cv2.cvtColor(img, cv2.COLOR_BGR2GRAY)\n",
    "        \n",
    "        # Detect faces in the image\n",
    "        faces = face_classifier.detectMultiScale(gray, 1.2, 5)\n",
    "\n",
    "        # Iterate through detected faces\n",
    "        for (x, y, w, h) in faces:\n",
    "            # Crop the face from the original image\n",
    "            cropped_face = img[y: y+h, x:x+w]\n",
    "\n",
    "            # Resize the face to a common size (e.g., 200x200)\n",
    "            cropped_face = cv2.resize(cropped_face, (128, 128))\n",
    "\n",
    "            # Convert the face to grayscale\n",
    "            cropped_face = cv2.cvtColor(cropped_face, cv2.COLOR_BGR2GRAY)\n",
    "\n",
    "            # Append the face to the faces_list\n",
    "            faces_list.append(cropped_face)\n",
    "\n",
    "        # Append the faces_list to the all_faces_list\n",
    "        all_faces_list.append(faces_list)\n",
    "\n",
    "    return all_faces_list, len(all_faces_list)\n",
    "\n",
    "x, y = face_cropped_from_list(capture_images(url))\n",
    "y"
   ]
  }
 ],
 "metadata": {
  "kernelspec": {
   "display_name": ".venv",
   "language": "python",
   "name": "python3"
  },
  "language_info": {
   "codemirror_mode": {
    "name": "ipython",
    "version": 3
   },
   "file_extension": ".py",
   "mimetype": "text/x-python",
   "name": "python",
   "nbconvert_exporter": "python",
   "pygments_lexer": "ipython3",
   "version": "3.9.13"
  }
 },
 "nbformat": 4,
 "nbformat_minor": 2
}
