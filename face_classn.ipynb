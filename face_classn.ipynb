{
 "cells": [
  {
   "cell_type": "code",
   "execution_count": 11,
   "metadata": {},
   "outputs": [],
   "source": [
    "import requests\n",
    "import cv2\n",
    "import os\n",
    "import numpy as np"
   ]
  },
  {
   "cell_type": "code",
   "execution_count": 6,
   "metadata": {},
   "outputs": [],
   "source": [
    "\n",
    "\n",
    "# Getting Image and store it\n",
    "url = 'http://10.12.105.245:8080/shot.jpg'\n",
    "def get_image(url):\n",
    "    img_resp = requests.get(url)\n",
    "    img_arr = np.array(bytearray(img_resp.content), dtype=np.uint8)\n",
    "    img = cv2.imdecode(img_arr, -1)\n"
   ]
  },
  {
   "cell_type": "code",
   "execution_count": 12,
   "metadata": {},
   "outputs": [],
   "source": [
    "def get_image(url, save_path):\n",
    "    for i in range (100):\n",
    "        img_resp = requests.get(url)\n",
    "        img_arr = np.array(bytearray(img_resp.content), dtype=np.uint8)\n",
    "        img = cv2.imdecode(img_arr, -1)\n",
    "        \n",
    "        # Check if the save path exists, create it if not\n",
    "        if not os.path.exists(save_path):\n",
    "            os.makedirs(save_path)\n",
    "        \n",
    "        # Save the image with a unique name in the specified folder\n",
    "        img_name = os.path.join(save_path, f'image{i}.jpg')\n",
    "        cv2.imwrite(img_name, img)\n",
    "    \n",
    "    return img_name"
   ]
  },
  {
   "cell_type": "code",
   "execution_count": 13,
   "metadata": {},
   "outputs": [],
   "source": [
    "save_folder = 'images'\n",
    "saved_image_path = get_image(url, save_folder)"
   ]
  },
  {
   "cell_type": "code",
   "execution_count": 27,
   "metadata": {},
   "outputs": [],
   "source": [
    "howmanypics = 10\n",
    "personName = \"Raj\""
   ]
  },
  {
   "cell_type": "code",
   "execution_count": 29,
   "metadata": {},
   "outputs": [
    {
     "name": "stdout",
     "output_type": "stream",
     "text": [
      "Faces cropped and saved successfully.\n"
     ]
    }
   ],
   "source": [
    "face_classifier = cv2.CascadeClassifier(cv2.data.haarcascades + 'haarcascade_frontalface_default.xml')\n",
    "\n",
    "def face_cropped(img):\n",
    "    gray = cv2.cvtColor(img, cv2.COLOR_BGR2GRAY)\n",
    "    faces = face_classifier.detectMultiScale(gray, 1.2, 5)\n",
    "    if len(faces) != 1:\n",
    "        return None\n",
    "    x, y, w, h = faces[0]\n",
    "    cropped_face = img[y: y+h, x:x+w]\n",
    "    return cropped_face\n",
    "\n",
    "def process_images(url_template, save_path, personName):\n",
    "    for i in range(1, howmanypics+1):  # Process 100 images\n",
    "        url = url_template.format(i)\n",
    "        img_resp = requests.get(url)\n",
    "        img_arr = np.array(bytearray(img_resp.content), dtype=np.uint8)\n",
    "        img = cv2.imdecode(img_arr, -1)\n",
    "\n",
    "        # Check if a face is detected in the first image\n",
    "        if i == 1:\n",
    "            face = face_cropped(img)\n",
    "            if face is None:\n",
    "                print(\"No face detected in the first image. Exiting.\")\n",
    "                return\n",
    "        \n",
    "        # Process and save the face as a 64x64 image\n",
    "        face = face_cropped(img)\n",
    "        face_resized = cv2.resize(face, (128, 128))\n",
    "        face_gray = cv2.cvtColor(face_resized, cv2.COLOR_BGR2GRAY)\n",
    "        file_path = os.path.join(save_path, f'{personName}_{i}.jpg')\n",
    "        cv2.imwrite(file_path, face_gray)\n",
    "\n",
    "    print(\"Faces cropped and saved successfully.\")\n",
    "\n",
    "# Example usage # URL template for 100 images\n",
    "save_path = 'images'  # Specify where to save the cropped faces\n",
    "process_images(url, save_path, personName)"
   ]
  },
  {
   "cell_type": "code",
   "execution_count": 22,
   "metadata": {},
   "outputs": [
    {
     "name": "stdout",
     "output_type": "stream",
     "text": [
      "WARNING:tensorflow:From c:\\Users\\Lenovo\\OneDrive\\Desktop\\deep learning\\.venv\\lib\\site-packages\\keras\\src\\losses.py:2976: The name tf.losses.sparse_softmax_cross_entropy is deprecated. Please use tf.compat.v1.losses.sparse_softmax_cross_entropy instead.\n",
      "\n"
     ]
    }
   ],
   "source": [
    "from sklearn.model_selection import train_test_split\n",
    "from keras.models import Sequential\n",
    "from keras.layers import Conv2D, MaxPooling2D, Flatten, Dense\n",
    "from keras.utils import to_categorical"
   ]
  },
  {
   "cell_type": "code",
   "execution_count": 30,
   "metadata": {},
   "outputs": [],
   "source": [
    "def load_images(directory, image_size):\n",
    "    images = []\n",
    "    labels = []\n",
    "    for filename in os.listdir(directory):\n",
    "        if filename.endswith(\".jpg\"):\n",
    "            img = cv2.imread(os.path.join(directory, filename))\n",
    "            img = cv2.resize(img, image_size)\n",
    "            images.append(img)\n",
    "            labels.append(filename.split('_')[0])  # Assuming filename format: \"PersonName_index.jpg\"\n",
    "    return np.array(images), np.array(labels)\n",
    "\n",
    "# Set your dataset directory and image size\n",
    "dataset_dir = 'images'\n",
    "image_size = (128, 128)\n",
    "\n",
    "# Load images and labels\n",
    "images, labels = load_images(dataset_dir, image_size)\n",
    "\n",
    "# Encode labels as integers\n",
    "label_mapping = {label: idx for idx, label in enumerate(np.unique(labels))}\n",
    "encoded_labels = np.array([label_mapping[label] for label in labels])\n",
    "\n",
    "# Split data into training and testing sets\n",
    "X_train, X_test, y_train, y_test = train_test_split(images, encoded_labels, test_size=0.3, random_state=42)\n",
    "\n",
    "# Convert labels to one-hot encoding\n",
    "y_train = to_categorical(y_train)\n",
    "y_test = to_categorical(y_test)"
   ]
  },
  {
   "cell_type": "code",
   "execution_count": 31,
   "metadata": {},
   "outputs": [
    {
     "name": "stdout",
     "output_type": "stream",
     "text": [
      "WARNING:tensorflow:From c:\\Users\\Lenovo\\OneDrive\\Desktop\\deep learning\\.venv\\lib\\site-packages\\keras\\src\\backend.py:873: The name tf.get_default_graph is deprecated. Please use tf.compat.v1.get_default_graph instead.\n",
      "\n",
      "WARNING:tensorflow:From c:\\Users\\Lenovo\\OneDrive\\Desktop\\deep learning\\.venv\\lib\\site-packages\\keras\\src\\layers\\pooling\\max_pooling2d.py:161: The name tf.nn.max_pool is deprecated. Please use tf.nn.max_pool2d instead.\n",
      "\n",
      "WARNING:tensorflow:From c:\\Users\\Lenovo\\OneDrive\\Desktop\\deep learning\\.venv\\lib\\site-packages\\keras\\src\\optimizers\\__init__.py:309: The name tf.train.Optimizer is deprecated. Please use tf.compat.v1.train.Optimizer instead.\n",
      "\n",
      "Epoch 1/10\n",
      "WARNING:tensorflow:From c:\\Users\\Lenovo\\OneDrive\\Desktop\\deep learning\\.venv\\lib\\site-packages\\keras\\src\\utils\\tf_utils.py:492: The name tf.ragged.RaggedTensorValue is deprecated. Please use tf.compat.v1.ragged.RaggedTensorValue instead.\n",
      "\n",
      "WARNING:tensorflow:From c:\\Users\\Lenovo\\OneDrive\\Desktop\\deep learning\\.venv\\lib\\site-packages\\keras\\src\\engine\\base_layer_utils.py:384: The name tf.executing_eagerly_outside_functions is deprecated. Please use tf.compat.v1.executing_eagerly_outside_functions instead.\n",
      "\n",
      "1/1 [==============================] - 2s 2s/step - loss: 20.2244 - accuracy: 0.5714 - val_loss: 531.3474 - val_accuracy: 0.6667\n",
      "Epoch 2/10\n",
      "1/1 [==============================] - 0s 187ms/step - loss: 931.0374 - accuracy: 0.4286 - val_loss: 255.3411 - val_accuracy: 0.6667\n",
      "Epoch 3/10\n",
      "1/1 [==============================] - 0s 159ms/step - loss: 449.8055 - accuracy: 0.4286 - val_loss: 0.0000e+00 - val_accuracy: 1.0000\n",
      "Epoch 4/10\n",
      "1/1 [==============================] - 0s 159ms/step - loss: 0.0000e+00 - accuracy: 1.0000 - val_loss: 83.6134 - val_accuracy: 0.3333\n",
      "Epoch 5/10\n",
      "1/1 [==============================] - 0s 158ms/step - loss: 41.7930 - accuracy: 0.5714 - val_loss: 36.1216 - val_accuracy: 0.3333\n",
      "Epoch 6/10\n",
      "1/1 [==============================] - 0s 152ms/step - loss: 8.6859 - accuracy: 0.5714 - val_loss: 0.0000e+00 - val_accuracy: 1.0000\n",
      "Epoch 7/10\n",
      "1/1 [==============================] - 0s 158ms/step - loss: 0.0000e+00 - accuracy: 1.0000 - val_loss: 0.0000e+00 - val_accuracy: 1.0000\n",
      "Epoch 8/10\n",
      "1/1 [==============================] - 0s 167ms/step - loss: 0.0000e+00 - accuracy: 1.0000 - val_loss: 0.0000e+00 - val_accuracy: 1.0000\n",
      "Epoch 9/10\n",
      "1/1 [==============================] - 0s 162ms/step - loss: 0.0000e+00 - accuracy: 1.0000 - val_loss: 1.0744 - val_accuracy: 0.6667\n",
      "Epoch 10/10\n",
      "1/1 [==============================] - 0s 183ms/step - loss: 1.8684 - accuracy: 0.5000 - val_loss: 0.0000e+00 - val_accuracy: 1.0000\n",
      "1/1 [==============================] - 0s 53ms/step - loss: 0.0000e+00 - accuracy: 1.0000\n",
      "Test Accuracy: 1.0\n"
     ]
    }
   ],
   "source": [
    "\n",
    "# Define the CNN model\n",
    "model = Sequential()\n",
    "model.add(Conv2D(32, (3, 3), activation='relu', input_shape=(image_size[0], image_size[1], 3)))\n",
    "model.add(MaxPooling2D((2, 2)))\n",
    "model.add(Conv2D(64, (3, 3), activation='relu'))\n",
    "model.add(MaxPooling2D((2, 2)))\n",
    "model.add(Flatten())\n",
    "model.add(Dense(64, activation='relu'))\n",
    "model.add(Dense(len(label_mapping), activation='softmax'))\n",
    "\n",
    "# Compile the model\n",
    "model.compile(optimizer='adam', loss='categorical_crossentropy', metrics=['accuracy'])\n",
    "\n",
    "# Train the model\n",
    "model.fit(X_train, y_train, epochs=10, batch_size=32, validation_data=(X_test, y_test))\n",
    "\n",
    "# Evaluate the model\n",
    "test_loss, test_accuracy = model.evaluate(X_test, y_test)\n",
    "print(f\"Test Accuracy: {test_accuracy}\")\n"
   ]
  },
  {
   "cell_type": "code",
   "execution_count": 40,
   "metadata": {},
   "outputs": [
    {
     "name": "stdout",
     "output_type": "stream",
     "text": [
      "1/1 [==============================] - 0s 196ms/step\n",
      "Predicted Label: Aditya\n"
     ]
    }
   ],
   "source": [
    "# Example usage for prediction\n",
    "test_image = cv2.imread('images/test.jpg')\n",
    "test_image = cv2.resize(test_image, image_size)\n",
    "test_image = np.expand_dims(test_image, axis=0)\n",
    "prediction = model.predict(test_image)\n",
    "predicted_label = list(label_mapping.keys())[np.argmax(prediction)]\n",
    "print(f\"Predicted Label: {predicted_label}\")"
   ]
  },
  {
   "cell_type": "code",
   "execution_count": null,
   "metadata": {},
   "outputs": [],
   "source": [
    "def face_cropped_from_list(images_list):\n",
    "    # Load the face classifier\n",
    "    face_classifier = cv2.CascadeClassifier(cv2.data.haarcascades + 'haarcascade_frontalface_default.xml')\n",
    "    all_faces_list = []\n",
    "\n",
    "    for img in images_list:\n",
    "        faces_list = []\n",
    "        gray = cv2.cvtColor(img, cv2.COLOR_BGR2GRAY)\n",
    "        \n",
    "        # Detect faces in the image\n",
    "        faces = face_classifier.detectMultiScale(gray, 1.2, 5)\n",
    "\n",
    "        # Iterate through detected faces\n",
    "        for (x, y, w, h) in faces:\n",
    "            # Crop the face from the original image\n",
    "            cropped_face = img[y: y+h, x:x+w]\n",
    "\n",
    "            # Resize the face to a common size (e.g., 200x200)\n",
    "            cropped_face = cv2.resize(cropped_face, (200, 200))\n",
    "\n",
    "            # Convert the face to grayscale\n",
    "            cropped_face = cv2.cvtColor(cropped_face, cv2.COLOR_BGR2GRAY)\n",
    "\n",
    "            # Append the face to the faces_list\n",
    "            faces_list.append(cropped_face)\n",
    "\n",
    "        # Append the faces_list to the all_faces_list\n",
    "        all_faces_list.append(faces_list)\n",
    "\n",
    "    return all_faces_list\n",
    "\n",
    "# all_faces_list = face_cropped_from_list(captured_images)\n",
    "\n",
    "def recognize_faces(image_lists, model_path='RecognitionModel.h5', map_path='StudentsMap.pkl'):\n",
    "    # Load the model\n",
    "    loaded_model = load_model(model_path)\n",
    "\n",
    "    # Load the name mapping\n",
    "    with open(map_path, 'rb') as file:\n",
    "        loaded_object = pickle.load(file)\n",
    "\n",
    "    # Initialize the result list\n",
    "    results = []\n",
    "\n",
    "    # Process each list of images\n",
    "    for image_list in image_lists:\n",
    "        # Initialize the list for this set of images\n",
    "        names = []\n",
    "\n",
    "        # Process each image in the list\n",
    "        for img_array in image_list:\n",
    "            resized_image = cv2.resize(img_array, (64, 64))\n",
    "            gray_image = resized_image\n",
    "\n",
    "            # Expand dimensions to make it compatible with the model input shape\n",
    "            test_image = np.expand_dims(gray_image, axis=0)\n",
    "            test_image = np.expand_dims(test_image, axis=-1)  # Add channel dimension for grayscale\n",
    "\n",
    "            # Now, you can use the loaded model for prediction\n",
    "            result = loaded_model.predict(test_image, verbose=0)\n",
    "            names.append(loaded_object[np.argmax(result)])\n",
    "\n",
    "\n",
    "        # Append the list of names for this set of images to the result\n",
    "        results.append(names)\n",
    "\n",
    "    return results"
   ]
  },
  {
   "cell_type": "code",
   "execution_count": 39,
   "metadata": {},
   "outputs": [
    {
     "name": "stdout",
     "output_type": "stream",
     "text": [
      "Faces cropped and saved successfully.\n"
     ]
    }
   ],
   "source": [
    "\n",
    "def capture_test(url_template, save_path):\n",
    "    img_resp = requests.get(url)\n",
    "    img_arr = np.array(bytearray(img_resp.content), dtype=np.uint8)\n",
    "    img = cv2.imdecode(img_arr, -1)\n",
    "\n",
    "    \n",
    "    face = face_cropped(img)\n",
    "    if face is None:\n",
    "        print(\"No face detected in the first image. Exiting.\")\n",
    "        return\n",
    "    \n",
    "    # Process and save the face as a 64x64 image\n",
    "    face = face_cropped(img)\n",
    "    face_resized = cv2.resize(face, (128, 128))\n",
    "    face_gray = cv2.cvtColor(face_resized, cv2.COLOR_BGR2GRAY)\n",
    "    file_path = os.path.join(save_path, f'test.jpg')\n",
    "    cv2.imwrite(file_path, face_gray)\n",
    "\n",
    "    print(\"Faces cropped and saved successfully.\")\n",
    "\n",
    "# Example usage # URL template for 100 images\n",
    "save_path = 'images'  # Specify where to save the cropped faces\n",
    "capture_test(url, save_path)"
   ]
  },
  {
   "cell_type": "code",
   "execution_count": null,
   "metadata": {},
   "outputs": [],
   "source": [
    "\n"
   ]
  }
 ],
 "metadata": {
  "kernelspec": {
   "display_name": ".venv",
   "language": "python",
   "name": "python3"
  },
  "language_info": {
   "codemirror_mode": {
    "name": "ipython",
    "version": 3
   },
   "file_extension": ".py",
   "mimetype": "text/x-python",
   "name": "python",
   "nbconvert_exporter": "python",
   "pygments_lexer": "ipython3",
   "version": "3.9.13"
  }
 },
 "nbformat": 4,
 "nbformat_minor": 2
}
